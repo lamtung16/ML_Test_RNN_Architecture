{
 "cells": [
  {
   "cell_type": "code",
   "execution_count": 1,
   "metadata": {},
   "outputs": [
    {
     "data": {
      "text/plain": [
       "<torch._C.Generator at 0x208ffcabd10>"
      ]
     },
     "execution_count": 1,
     "metadata": {},
     "output_type": "execute_result"
    }
   ],
   "source": [
    "import torch\n",
    "import torch.nn as nn\n",
    "\n",
    "torch.manual_seed(4)"
   ]
  },
  {
   "cell_type": "code",
   "execution_count": 2,
   "metadata": {},
   "outputs": [
    {
     "name": "stdout",
     "output_type": "stream",
     "text": [
      "- Number of parameters in the RNN: 6\n",
      "\n",
      "- state weight:\n",
      " [[Parameter containing:\n",
      "tensor([[1.],\n",
      "        [2.]], requires_grad=True), Parameter containing:\n",
      "tensor([[1., 0.],\n",
      "        [2., 0.]], requires_grad=True)]]\n",
      "\n",
      "- output:\n",
      " tensor([[1., 2.],\n",
      "        [3., 6.]], grad_fn=<SqueezeBackward1>)\n",
      "\n",
      "- last hidden:\n",
      " tensor([[3., 6.]], grad_fn=<SqueezeBackward1>)\n"
     ]
    }
   ],
   "source": [
    "# Define your RNN\n",
    "rnn = nn.RNN(input_size=1, hidden_size=2, num_layers=1, nonlinearity='relu', bias=False, batch_first=False)\n",
    "total_params = sum(p.numel() for p in rnn.parameters())\n",
    "print(f\"- Number of parameters in the RNN: {total_params}\\n\")\n",
    "\n",
    "# Set the weights for the first layer\n",
    "rnn.weight_ih_l0.data = torch.tensor([[1.0],[2.0]])\n",
    "rnn.weight_hh_l0.data = torch.tensor([[1.0, 0.0], [2.0, 0.0]])\n",
    "\n",
    "input = torch.arange(1, 3).view(2, 1).float()\n",
    "\n",
    "h0 = torch.tensor([[0.0, 0.0]])\n",
    "output, hn = rnn(input, h0)\n",
    "\n",
    "# print\n",
    "print(\"- state weight:\\n\", rnn.all_weights)\n",
    "print()\n",
    "print(\"- output:\\n\", output)\n",
    "print()\n",
    "print(\"- last hidden:\\n\", hn)"
   ]
  },
  {
   "cell_type": "code",
   "execution_count": 3,
   "metadata": {},
   "outputs": [
    {
     "name": "stdout",
     "output_type": "stream",
     "text": [
      "- Number of parameters in the RNN: 14\n",
      "\n",
      "- state weight:\n",
      " [Parameter containing:\n",
      "tensor([[1.],\n",
      "        [2.]], requires_grad=True), Parameter containing:\n",
      "tensor([[1., 0.],\n",
      "        [2., 0.]], requires_grad=True)]\n",
      "\n",
      "- hidden features weight:\n",
      " [Parameter containing:\n",
      "tensor([[1., 0.],\n",
      "        [2., 1.]], requires_grad=True), Parameter containing:\n",
      "tensor([[0., 0.],\n",
      "        [0., 1.]], requires_grad=True)]\n",
      "\n",
      "- output:\n",
      " tensor([[ 1.,  4.],\n",
      "        [ 3., 16.]], grad_fn=<SqueezeBackward1>)\n",
      "\n",
      "- last hidden:\n",
      " tensor([[ 3.,  6.],\n",
      "        [ 3., 16.]], grad_fn=<SqueezeBackward1>)\n"
     ]
    }
   ],
   "source": [
    "# Define your RNN\n",
    "rnn = nn.RNN(input_size=1, hidden_size=2, num_layers=2, nonlinearity='relu', bias=False, batch_first=False)\n",
    "total_params = sum(p.numel() for p in rnn.parameters())\n",
    "print(f\"- Number of parameters in the RNN: {total_params}\\n\")\n",
    "\n",
    "# Set the weights for the first layer\n",
    "rnn.weight_ih_l0.data = torch.tensor([[1.0],[2.0]])\n",
    "rnn.weight_ih_l1.data = torch.tensor([[1.0, 0.0], [2.0, 1.0]])\n",
    "\n",
    "rnn.weight_hh_l0.data = torch.tensor([[1.0, 0.0], [2.0, 0.0]])\n",
    "rnn.weight_hh_l1.data = torch.tensor([[0.0, 0.0], [0.0, 1.0]])\n",
    "\n",
    "input = torch.arange(1, 3).view(2, 1).float()\n",
    "\n",
    "h0 = torch.tensor([[0.0, 0.0], [0.0, 0.0]])\n",
    "output, hn = rnn(input, h0)\n",
    "\n",
    "# print\n",
    "print(\"- state weight:\\n\", rnn.all_weights[0])\n",
    "print()\n",
    "print(\"- hidden features weight:\\n\", rnn.all_weights[1])\n",
    "print()\n",
    "print(\"- output:\\n\", output)\n",
    "print()\n",
    "print(\"- last hidden:\\n\", hn)"
   ]
  },
  {
   "cell_type": "code",
   "execution_count": 7,
   "metadata": {},
   "outputs": [
    {
     "name": "stdout",
     "output_type": "stream",
     "text": [
      "- Number of parameters in the RNN: 4\n",
      "\n",
      "- state weight:\n",
      " [[Parameter containing:\n",
      "tensor([[0.]], requires_grad=True), Parameter containing:\n",
      "tensor([[1.]], requires_grad=True), Parameter containing:\n",
      "tensor([0.], requires_grad=True), Parameter containing:\n",
      "tensor([1.], requires_grad=True)]]\n",
      "\n",
      "- output:\n",
      " tensor([[ 1.],\n",
      "        [ 2.],\n",
      "        [ 3.],\n",
      "        [ 4.],\n",
      "        [ 5.],\n",
      "        [ 6.],\n",
      "        [ 7.],\n",
      "        [ 8.],\n",
      "        [ 9.],\n",
      "        [10.]], grad_fn=<SqueezeBackward1>)\n",
      "\n",
      "- last hidden:\n",
      " tensor([[10.]], grad_fn=<SqueezeBackward1>)\n"
     ]
    }
   ],
   "source": [
    "rnn = nn.RNN(input_size=1, hidden_size=1, num_layers=1, nonlinearity='relu', bias=True, batch_first=False)\n",
    "total_params = sum(p.numel() for p in rnn.parameters())\n",
    "print(f\"- Number of parameters in the RNN: {total_params}\\n\")\n",
    "\n",
    "rnn.weight_ih_l0.data = torch.tensor([[0.0]])\n",
    "rnn.weight_hh_l0.data = torch.tensor([[1.0]])\n",
    "rnn.bias_ih_l0.data   = torch.tensor([0.0])\n",
    "rnn.bias_hh_l0.data   = torch.tensor([1.0])\n",
    "\n",
    "input = torch.randn(10, 1)\n",
    "\n",
    "h0 = torch.tensor([[0.0]])\n",
    "output, hn = rnn(input, h0)\n",
    "\n",
    "# print\n",
    "print(\"- state weight:\\n\", rnn.all_weights)\n",
    "print()\n",
    "print(\"- output:\\n\", output)\n",
    "print()\n",
    "print(\"- last hidden:\\n\", hn)"
   ]
  }
 ],
 "metadata": {
  "kernelspec": {
   "display_name": "Python 3",
   "language": "python",
   "name": "python3"
  },
  "language_info": {
   "codemirror_mode": {
    "name": "ipython",
    "version": 3
   },
   "file_extension": ".py",
   "mimetype": "text/x-python",
   "name": "python",
   "nbconvert_exporter": "python",
   "pygments_lexer": "ipython3",
   "version": "3.11.7"
  }
 },
 "nbformat": 4,
 "nbformat_minor": 2
}
